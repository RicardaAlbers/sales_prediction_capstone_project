{
 "cells": [
  {
   "cell_type": "markdown",
   "metadata": {},
   "source": [
    "<div style=\"background-color: lightblue; color: black; padding: 20px; font-weight: bold; font-size: 20px;\">Future work done</div>\n",
    "\n"
   ]
  },
  {
   "cell_type": "markdown",
   "metadata": {},
   "source": [
    "<div style=\"background-color: lightblue; color: black; padding: 20px; font-weight: bold; font-size: 15px;\">To the current time, the neuefische bootcamp is over. However, I still have some ideas that I would like to implement. This will be investigated here.<br><br>\n",
    "First, I will reexamine the distribution of the target variable, weekly sales. Afterward, I will apply transformations to the data before proceeding with modeling and evaluating their effects. <br><br>\n",
    "Second, I am exploring further feature engineering. During the exploratory data analysis (EDA), a correlation has been observed between the target variable and store size, as well as department count. This information is leveraged to create an additional feature. Subsequently, I will assess the impact of this new feature on the predictive performance of the model.<br><br>\n",
    "In addition, I've created some modules to streamline the process. I've implemented the train-test-split, error metrics and error plotting functionality in separate files, namely 'split.py.' 'metrics.py' and 'error.py'. These modules are then imported and utilized in the notebooks to eliminate code repetition.<br><br>\n",
    "The most exciting discovery is that the log-transformation of the target variable can reduce the prediction error by approximately $4.5 million.</div>"
   ]
  },
  {
   "cell_type": "code",
   "execution_count": 18,
   "metadata": {},
   "outputs": [],
   "source": [
    "import pandas as pd\n",
    "import numpy as np\n",
    "import matplotlib.pyplot as plt\n",
    "import seaborn as sns\n",
    "\n",
    "from sklearn.model_selection import train_test_split\n",
    "from sklearn.ensemble import ExtraTreesRegressor\n",
    "from sklearn.model_selection import GridSearchCV, RandomizedSearchCV\n",
    "from sklearn.metrics import mean_squared_error\n",
    "\n",
    "# import self-written functions to get metrics and split data\n",
    "from metrics import get_metrics\n",
    "from split import split_data, train_val_test\n",
    "\n",
    "RSEED=42"
   ]
  },
  {
   "cell_type": "markdown",
   "metadata": {},
   "source": [
    "<div style=\"background-color: lightblue; color: black; padding: 10px; font-weight: bold; font-size: 15px;\">Read data </div>"
   ]
  },
  {
   "cell_type": "code",
   "execution_count": 2,
   "metadata": {},
   "outputs": [],
   "source": [
    "df = pd.read_pickle('../data/data_combined_clean_features_11.pkl')"
   ]
  },
  {
   "cell_type": "markdown",
   "metadata": {},
   "source": [
    "<div style=\"background-color: lightblue; color: black; padding: 10px; font-weight: bold; font-size: 20px;\">01 Transforming target</div>"
   ]
  },
  {
   "cell_type": "markdown",
   "metadata": {},
   "source": [
    "<div style=\"background-color: lightblue; color: black; padding: 10px; font-weight: bold; font-size: 15px;\">Distribution od the target</div>"
   ]
  },
  {
   "cell_type": "code",
   "execution_count": 3,
   "metadata": {},
   "outputs": [
    {
     "data": {
      "image/png": "[encoded data removed]",
      "text/plain": [
       "<Figure size 640x480 with 1 Axes>"
      ]
     },
     "metadata": {},
     "output_type": "display_data"
    }
   ],
   "source": [
    "sns.histplot(df.Weekly_Sales);"
   ]
  },
  {
   "cell_type": "markdown",
   "metadata": {},
   "source": [
    "The distribution is clearly skewed to the right with a few very high values on the left."
   ]
  },
  {
   "cell_type": "code",
   "execution_count": 4,
   "metadata": {},
   "outputs": [
    {
     "data": {
      "text/plain": [
       "267730   -4988.94\n",
       "271300   -1321.48\n",
       "24830    -1008.96\n",
       "Name: Weekly_Sales, dtype: float64"
      ]
     },
     "execution_count": 4,
     "metadata": {},
     "output_type": "execute_result"
    }
   ],
   "source": [
    "# nulls or negative values in the target variable?\n",
    "df.Weekly_Sales.nsmallest(3)"
   ]
  },
  {
   "cell_type": "markdown",
   "metadata": {},
   "source": [
    "<div style=\"background-color: lightblue; color: black; padding: 10px; font-weight: bold; font-size: 15px;\">Train test split</div>"
   ]
  },
  {
   "cell_type": "code",
   "execution_count": 19,
   "metadata": {},
   "outputs": [],
   "source": [
    "#define train, validation and test dataset\n",
    "X_train, y_train, X_validation, y_validation, X_test, y_test = split_data(df)\n",
    "\n",
    "# making whole train, validation and test dataset accessable\n",
    "train, validation, test = train_val_test(df)"
   ]
  },
  {
   "cell_type": "markdown",
   "metadata": {},
   "source": [
    "<div style=\"background-color: lightblue; color: black; padding: 10px; font-weight: bold; font-size: 15px;\">Arcsinh-transformation</div><br>\n",
    "\n",
    "The Arcsinh-transformation can handle negative values."
   ]
  },
  {
   "cell_type": "code",
   "execution_count": 6,
   "metadata": {},
   "outputs": [],
   "source": [
    "arc_transformed_y_train = np.arcsinh(y_train)\n"
   ]
  },
  {
   "cell_type": "markdown",
   "metadata": {},
   "source": [
    "<div style=\"background-color: lightblue; color: black; padding: 10px; font-weight: bold; font-size: 15px;\">Best model</div>"
   ]
  },
  {
   "cell_type": "code",
   "execution_count": 7,
   "metadata": {},
   "outputs": [],
   "source": [
    "# instantiate model\n",
    "model = ExtraTreesRegressor(\n",
    "    max_depth=25, \n",
    "    max_features=0.5, \n",
    "    min_samples_leaf=1, \n",
    "    n_estimators= 100,\n",
    "    random_state=42)\n",
    "\n",
    "# fit the model with train data \n",
    "model.fit(X_train, arc_transformed_y_train)\n",
    "\n",
    "# Make predictions\n",
    "arc_transformed_y_pred_train = model.predict(X_train)\n",
    "arc_transformed_y_pred_validation = model.predict(X_validation)\n",
    "arc_transformed_y_pred_test = model.predict(X_test)"
   ]
  },
  {
   "cell_type": "code",
   "execution_count": 8,
   "metadata": {},
   "outputs": [],
   "source": [
    "# re-transform predictions\n",
    "y_pred_train = np.sinh(arc_transformed_y_pred_train)\n",
    "y_pred_validation = np.sinh(arc_transformed_y_pred_validation)\n",
    "y_pred_test = np.sinh(arc_transformed_y_pred_test)"
   ]
  },
  {
   "cell_type": "code",
   "execution_count": 9,
   "metadata": {},
   "outputs": [
    {
     "name": "stdout",
     "output_type": "stream",
     "text": [
      "- - - - - - - - - - \n",
      "Metrics for Train\n",
      "Mean weekly sales: 17639.364\n",
      "Standard deviation weekly sales: 23534.607\n",
      "MSE: 1696588.116\n",
      "RMSE: 1302.531\n",
      "- - - - - - - - - - \n",
      "- - - - - - - - - - \n",
      "Metrics for Validation\n",
      "Mean weekly sales: 17342.499\n",
      "Standard deviation weekly sales: 22893.483\n",
      "MSE: 10976927.508\n",
      "RMSE: 3313.145\n",
      "- - - - - - - - - - \n",
      "- - - - - - - - - - \n",
      "Metrics for Test\n",
      "Mean weekly sales: 17402.01\n",
      "Standard deviation weekly sales: 22530.901\n",
      "MSE: 7055501.648\n",
      "RMSE: 2656.219\n",
      "- - - - - - - - - - \n"
     ]
    }
   ],
   "source": [
    "get_metrics(y_train, y_pred_train, 'Train')\n",
    "get_metrics(y_validation, y_pred_validation, 'Validation')\n",
    "get_metrics(y_test, y_pred_test, 'Test')"
   ]
  },
  {
   "cell_type": "markdown",
   "metadata": {},
   "source": [
    "Slightly better results and less overfitting compared to the best model used in our presentation."
   ]
  },
  {
   "cell_type": "markdown",
   "metadata": {},
   "source": [
    "<div style=\"background-color: lightblue; color: black; padding: 10px; font-weight: bold; font-size: 15px;\">Now testing Log-transformation</div>"
   ]
  },
  {
   "cell_type": "code",
   "execution_count": 10,
   "metadata": {},
   "outputs": [],
   "source": [
    "# reread data\n",
    "df = pd.read_pickle('../data/data_combined_clean_features_11.pkl')"
   ]
  },
  {
   "cell_type": "markdown",
   "metadata": {},
   "source": [
    "<div style=\"background-color: lightblue; color: black; padding: 10px; font-weight: bold; font-size: 15px;\">Train test split</div>"
   ]
  },
  {
   "cell_type": "code",
   "execution_count": 31,
   "metadata": {},
   "outputs": [],
   "source": [
    "#define train, validation and test dataset\n",
    "X_train, y_train, X_validation, y_validation, X_test, y_test = split_data(df)\n",
    "\n",
    "# making whole train, validation and test dataset accessable\n",
    "train, validation, test = train_val_test(df)"
   ]
  },
  {
   "cell_type": "markdown",
   "metadata": {},
   "source": [
    "<div style=\"background-color: lightblue; color: black; padding: 10px; font-weight: bold; font-size: 15px;\">Log-Transformation of the target</div>\n",
    "\n",
    "A constant is added so that the log transformation can handle negative values and zeros in the target. The 5000 was chosen because it covers the range in the negative number space that occurs in the data."
   ]
  },
  {
   "cell_type": "code",
   "execution_count": 12,
   "metadata": {},
   "outputs": [],
   "source": [
    "#log-transformation\n",
    "log_transformed_y_train = y_train.apply(lambda x: np.log(x+5000))"
   ]
  },
  {
   "cell_type": "markdown",
   "metadata": {},
   "source": [
    "<div style=\"background-color: lightblue; color: black; padding: 10px; font-weight: bold; font-size: 15px;\">Best model</div>"
   ]
  },
  {
   "cell_type": "code",
   "execution_count": 13,
   "metadata": {},
   "outputs": [],
   "source": [
    "# instantiate model\n",
    "model = ExtraTreesRegressor(\n",
    "    max_depth=25, \n",
    "    max_features=0.5, \n",
    "    min_samples_leaf=1, \n",
    "    n_estimators= 100,\n",
    "    random_state=42)\n",
    "\n",
    "# fit the model with train data \n",
    "model.fit(X_train, log_transformed_y_train)\n",
    "\n",
    "# Make predictions\n",
    "log_transformed_y_pred_train = pd.Series(model.predict(X_train))\n",
    "log_transformed_y_pred_validation = pd.Series(model.predict(X_validation))\n",
    "log_transformed_y_pred_test = pd.Series(model.predict(X_test))"
   ]
  },
  {
   "cell_type": "code",
   "execution_count": 14,
   "metadata": {},
   "outputs": [],
   "source": [
    "# re-transform predictions\n",
    "y_pred_train = log_transformed_y_pred_train.apply(lambda x: np.exp(x) - 5000)\n",
    "y_pred_validation = log_transformed_y_pred_validation.apply(lambda x: np.exp(x) - 5000)\n",
    "y_pred_test = log_transformed_y_pred_test.apply(lambda x: np.exp(x) - 5000)"
   ]
  },
  {
   "cell_type": "code",
   "execution_count": 15,
   "metadata": {},
   "outputs": [
    {
     "name": "stdout",
     "output_type": "stream",
     "text": [
      "- - - - - - - - - - \n",
      "Metrics for Train\n",
      "Mean weekly sales: 17639.364\n",
      "Standard deviation weekly sales: 23534.607\n",
      "MSE: 1434091.198\n",
      "RMSE: 1197.535\n",
      "- - - - - - - - - - \n",
      "- - - - - - - - - - \n",
      "Metrics for Validation\n",
      "Mean weekly sales: 17342.499\n",
      "Standard deviation weekly sales: 22893.483\n",
      "MSE: 10709945.315\n",
      "RMSE: 3272.605\n",
      "- - - - - - - - - - \n",
      "- - - - - - - - - - \n",
      "Metrics for Test\n",
      "Mean weekly sales: 17402.01\n",
      "Standard deviation weekly sales: 22530.901\n",
      "MSE: 6936656.921\n",
      "RMSE: 2633.753\n",
      "- - - - - - - - - - \n"
     ]
    }
   ],
   "source": [
    "get_metrics(y_train, y_pred_train, 'Train')\n",
    "get_metrics(y_validation, y_pred_validation, 'Validation')\n",
    "get_metrics(y_test, y_pred_test, 'Test')"
   ]
  },
  {
   "cell_type": "markdown",
   "metadata": {},
   "source": [
    "The intermediate log transformation of the target variable improves the result to the model from the presentation by about 47$ on validation data and 28$ on test data."
   ]
  },
  {
   "cell_type": "markdown",
   "metadata": {},
   "source": [
    "<div style=\"background-color: lightblue; color: black; padding: 10px; font-weight: bold; font-size: 15px;\">Adding predicted values to train, validation and test dataframe</div>"
   ]
  },
  {
   "cell_type": "code",
   "execution_count": 20,
   "metadata": {},
   "outputs": [],
   "source": [
    "train['Predicted_Sales'] = y_pred_train\n",
    "validation['Predicted_Sales'] = y_pred_validation\n",
    "test['Predicted_Sales'] = y_pred_test"
   ]
  },
  {
   "cell_type": "code",
   "execution_count": 21,
   "metadata": {},
   "outputs": [],
   "source": [
    "validation_and_test = pd.concat([validation, test], axis=0)"
   ]
  },
  {
   "cell_type": "code",
   "execution_count": 22,
   "metadata": {},
   "outputs": [
    {
     "name": "stdout",
     "output_type": "stream",
     "text": [
      "- - - - - - - - - - \n",
      "Metrics for Validation and Test\n",
      "Mean weekly sales: 17370.179\n",
      "Standard deviation weekly sales: 22725.48\n",
      "MSE: 8954927.457\n",
      "RMSE: 2992.478\n",
      "- - - - - - - - - - \n"
     ]
    }
   ],
   "source": [
    "get_metrics(validation_and_test.Weekly_Sales, \n",
    "            validation_and_test.Predicted_Sales, 'Validation and Test')"
   ]
  },
  {
   "cell_type": "markdown",
   "metadata": {},
   "source": [
    "Thr RMSE for the whole prediction period has been improved from 3031.452 to 2992.478."
   ]
  },
  {
   "cell_type": "code",
   "execution_count": 23,
   "metadata": {},
   "outputs": [
    {
     "name": "stdout",
     "output_type": "stream",
     "text": [
      "Prediction error best model without log-transformation: 346685780\n"
     ]
    }
   ],
   "source": [
    "old_best_RMSE = 3031\n",
    "print('Prediction error best model without log-transformation:', validation_and_test.shape[0]*old_best_RMSE)"
   ]
  },
  {
   "cell_type": "code",
   "execution_count": 24,
   "metadata": {},
   "outputs": [
    {
     "name": "stdout",
     "output_type": "stream",
     "text": [
      "Prediction error best model with log transformation: 342224960\n"
     ]
    }
   ],
   "source": [
    "new_best_RMSE = 2992\n",
    "print('Prediction error best model with log transformation:', validation_and_test.shape[0]*new_best_RMSE)"
   ]
  },
  {
   "cell_type": "code",
   "execution_count": 25,
   "metadata": {},
   "outputs": [
    {
     "data": {
      "text/plain": [
       "4460820"
      ]
     },
     "execution_count": 25,
     "metadata": {},
     "output_type": "execute_result"
    }
   ],
   "source": [
    "validation_and_test.shape[0]*old_best_RMSE-validation_and_test.shape[0]*new_best_RMSE"
   ]
  },
  {
   "cell_type": "markdown",
   "metadata": {},
   "source": [
    "The reduction in prediction error is about 4.5 Mio$."
   ]
  },
  {
   "cell_type": "code",
   "execution_count": 26,
   "metadata": {},
   "outputs": [
    {
     "data": {
      "image/png": "[encoded data removed]",
      "text/plain": [
       "<Figure size 1000x300 with 1 Axes>"
      ]
     },
     "metadata": {},
     "output_type": "display_data"
    }
   ],
   "source": [
    "plt.figure(figsize=(10, 3))\n",
    "\n",
    "#plotting lines for predicted and actual sales\n",
    "sns.lineplot(data=validation_and_test, x='Date', \n",
    "             y=validation_and_test.groupby(['Date'])['Predicted_Sales'].transform('sum'), \n",
    "             label='predicted sales', errorbar=None,\n",
    "             color='cyan')\n",
    "sns.lineplot(data=validation_and_test, x='Date', \n",
    "             y=validation_and_test.groupby(['Date'])['Weekly_Sales'].transform('sum'), \n",
    "             label ='actual sales', color='grey', \n",
    "             errorbar=None) #linestyle='--', \n",
    "\n",
    "# y ticks formatting\n",
    "plt.gca().yaxis.set_major_formatter(lambda x, _: f'{x / 1e6:.0f} Mio $')\n",
    "ytick_positions = [plt.gca().get_yticks()[1], plt.gca().get_yticks()[3], \n",
    "                   plt.gca().get_yticks()[5], plt.gca().get_yticks()[7]]\n",
    "\n",
    "plt.gca().set_yticks(ytick_positions)\n",
    "plt.gca().tick_params(axis='y', which='both', length=0)\n",
    "\n",
    "# x ticks formatting\n",
    "from matplotlib.dates import DateFormatter\n",
    "date_format = DateFormatter(\"%m-%Y\")\n",
    "plt.gca().xaxis.set_major_formatter(date_format)\n",
    "\n",
    "xtick_positions = [plt.gca().get_xticks()[1], plt.gca().get_xticks()[3], \n",
    "                   plt.gca().get_xticks()[5], plt.gca().get_xticks()[7],\n",
    "                   plt.gca().get_xticks()[9]]\n",
    "\n",
    "plt.gca().set_xticks(xtick_positions)\n",
    "plt.gca().tick_params(axis='x', which='both', length=0)\n",
    "\n",
    "sns.despine(top=True, right=True, left=True, bottom=True)\n",
    "\n",
    "plt.title('')#Prediction period - Weekly sales actual vs predicted \n",
    "plt.ylabel('')#weekly sales\n",
    "plt.xlabel('')#Date\n",
    "plt.legend();"
   ]
  },
  {
   "cell_type": "markdown",
   "metadata": {},
   "source": [
    "<div style=\"background-color: lightblue; color: black; padding: 10px; font-weight: bold; font-size: 20px;\">02 Feature Engineering <br></div><div style=\"background-color: lightblue; color: black; padding: 10px; font-weight: bold; font-size: 15px;\">\n",
    "As seen in the presentation store size and number of departments show the highest correlations with the target. Now Im am trying to improve predictive power by enineering features of them.</div>"
   ]
  },
  {
   "cell_type": "code",
   "execution_count": 27,
   "metadata": {},
   "outputs": [],
   "source": [
    "# reread data\n",
    "df = pd.read_pickle('../data/data_combined_clean_features_11.pkl')"
   ]
  },
  {
   "cell_type": "code",
   "execution_count": 28,
   "metadata": {},
   "outputs": [],
   "source": [
    "# create new column with number of departments per store\n",
    "df['Dept_Count'] = df.groupby('Store')['Dept'].transform('nunique')"
   ]
  },
  {
   "cell_type": "code",
   "execution_count": 30,
   "metadata": {},
   "outputs": [],
   "source": [
    "# create new column with relation of size and depatment number\n",
    "df['Size_Dept'] = df.Size/df.Dept_Count"
   ]
  },
  {
   "cell_type": "code",
   "execution_count": null,
   "metadata": {},
   "outputs": [],
   "source": [
    "#drop column with number of departments per store\n",
    "df.drop(columns='Dept_Count', inplace=True)"
   ]
  },
  {
   "cell_type": "code",
   "execution_count": null,
   "metadata": {},
   "outputs": [],
   "source": [
    "#define train, validation and test dataset\n",
    "X_train, y_train, X_validation, y_validation, X_test, y_test = split_data(df)\n",
    "\n",
    "# making whole train, validation and test dataset accessable\n",
    "train, validation, test = train_val_test(df)"
   ]
  },
  {
   "cell_type": "code",
   "execution_count": null,
   "metadata": {},
   "outputs": [],
   "source": [
    "# instantiate model\n",
    "model = ExtraTreesRegressor(\n",
    "    max_depth=25, \n",
    "    max_features=0.5, \n",
    "    min_samples_leaf=1, \n",
    "    n_estimators= 100,\n",
    "    random_state=42)\n",
    "\n",
    "# fit the model with train data \n",
    "model.fit(X_train, y_train)\n",
    "\n",
    "# Make predictions\n",
    "y_pred_train = model.predict(X_train)\n",
    "y_pred_validation = model.predict(X_validation)\n",
    "y_pred_test = model.predict(X_test)"
   ]
  },
  {
   "cell_type": "code",
   "execution_count": null,
   "metadata": {},
   "outputs": [
    {
     "name": "stdout",
     "output_type": "stream",
     "text": [
      "- - - - - - - - - - \n",
      "Metrics for Train\n",
      "Mean weekly sales: 17639.364\n",
      "Standard deviation weekly sales: 23534.607\n",
      "MSE: 1122838.883\n",
      "RMSE: 1059.641\n",
      "- - - - - - - - - - \n",
      "- - - - - - - - - - \n",
      "Metrics for Validation\n",
      "Mean weekly sales: 17342.499\n",
      "Standard deviation weekly sales: 22893.483\n",
      "MSE: 11009752.697\n",
      "RMSE: 3318.095\n",
      "- - - - - - - - - - \n",
      "- - - - - - - - - - \n",
      "Metrics for Test\n",
      "Mean weekly sales: 17402.01\n",
      "Standard deviation weekly sales: 22530.901\n",
      "MSE: 7018232.078\n",
      "RMSE: 2649.195\n",
      "- - - - - - - - - - \n"
     ]
    }
   ],
   "source": [
    "get_metrics(y_train, y_pred_train, 'Train')\n",
    "get_metrics(y_validation, y_pred_validation, 'Validation')\n",
    "get_metrics(y_test, y_pred_test, 'Test')"
   ]
  },
  {
   "cell_type": "code",
   "execution_count": null,
   "metadata": {},
   "outputs": [],
   "source": [
    "train['Predicted_Sales'] = y_pred_train\n",
    "validation['Predicted_Sales'] = y_pred_validation\n",
    "test['Predicted_Sales'] = y_pred_test"
   ]
  },
  {
   "cell_type": "code",
   "execution_count": null,
   "metadata": {},
   "outputs": [],
   "source": [
    "validation_and_test = pd.concat([validation, test], axis=0)"
   ]
  },
  {
   "cell_type": "code",
   "execution_count": null,
   "metadata": {},
   "outputs": [
    {
     "name": "stdout",
     "output_type": "stream",
     "text": [
      "- - - - - - - - - - \n",
      "Metrics for Validation and Test\n",
      "Mean weekly sales: 17370.179\n",
      "Standard deviation weekly sales: 22725.48\n",
      "MSE: 9153231.479\n",
      "RMSE: 3025.431\n",
      "- - - - - - - - - - \n"
     ]
    }
   ],
   "source": [
    "get_metrics(validation_and_test.Weekly_Sales, \n",
    "            validation_and_test.Predicted_Sales, 'Validation and Test')"
   ]
  },
  {
   "cell_type": "markdown",
   "metadata": {},
   "source": [
    "Since log transformation was not used here, the RMSE is compared to the original best model from the presentation. The new feature adds a small improvement by reducing the RMSE from 3031.452 to 3025.431."
   ]
  }
 ],
 "metadata": {
  "kernelspec": {
   "display_name": ".venv",
   "language": "python",
   "name": "python3"
  },
  "language_info": {
   "codemirror_mode": {
    "name": "ipython",
    "version": 3
   },
   "file_extension": ".py",
   "mimetype": "text/x-python",
   "name": "python",
   "nbconvert_exporter": "python",
   "pygments_lexer": "ipython3",
   "version": "3.11.3"
  },
  "orig_nbformat": 4
 },
 "nbformat": 4,
 "nbformat_minor": 2
}
