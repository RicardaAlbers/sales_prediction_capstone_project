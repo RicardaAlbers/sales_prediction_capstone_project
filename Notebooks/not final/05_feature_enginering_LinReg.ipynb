{
 "cells": [
  {
   "cell_type": "code",
   "execution_count": 1,
   "metadata": {},
   "outputs": [],
   "source": [
    "import pandas as pd\n",
    "import numpy as np\n",
    "import seaborn as sns\n",
    "import matplotlib.pyplot as plt\n",
    "\n",
    "import warnings\n",
    "warnings.filterwarnings(\"ignore\")\n",
    "warnings.filterwarnings(\"ignore\", category=RuntimeWarning)"
   ]
  },
  {
   "cell_type": "markdown",
   "metadata": {},
   "source": [
    "<div style=\"background-color: lightblue; color: black; padding: 10px; font-weight: bold; font-size: 15px;\">Reading file and creating features for date within machine learning:</div>"
   ]
  },
  {
   "cell_type": "code",
   "execution_count": 2,
   "metadata": {},
   "outputs": [],
   "source": [
    "df = pd.read_pickle('data/data_combined_clean_2.pkl')"
   ]
  },
  {
   "cell_type": "markdown",
   "metadata": {},
   "source": [
    "<div style=\"background-color: lightblue; color: black; padding: 10px; font-weight: bold; font-size: 15px;\">Columns for Date</div>"
   ]
  },
  {
   "cell_type": "code",
   "execution_count": 3,
   "metadata": {},
   "outputs": [],
   "source": [
    "# create month and calender week column\n",
    "df['Month'] = df['Date'].dt.month\n",
    "df['Month'] = df['Month'].astype(int)\n",
    "df['Week'] = df['Date'].dt.strftime('%U')\n",
    "df['Week'] = df['Week'].astype(int)\n",
    "\n",
    "#change year column dtype\n",
    "df['Year'] = df['Year'].astype(int)"
   ]
  },
  {
   "cell_type": "markdown",
   "metadata": {},
   "source": [
    "<div style=\"background-color: lightblue; color: black; padding: 10px; font-weight: bold; font-size: 15px;\">Engeneering features</div>"
   ]
  },
  {
   "cell_type": "markdown",
   "metadata": {},
   "source": [
    "Now columns are created, each containing the information whether it is a Christmas week or Thanksgiving week.<br>\n",
    "Dates:<br>\n",
    "Thanksgiving: 26-Nov-10, 25-Nov-11, 23-Nov-12<br>\n",
    "Christmas: 31-Dec-10, 30-Dec-11, 28-Dec-12<br>"
   ]
  },
  {
   "cell_type": "code",
   "execution_count": 4,
   "metadata": {},
   "outputs": [],
   "source": [
    "df['Date'] = pd.to_datetime(df['Date'])\n",
    "#df['Thanksgiv'] = [1 if x==pd.to_datetime('2010-11-26') or x==pd.to_datetime('2011-11-25') or x==pd.to_datetime('2012-11-29') else 0 for x in df['Date']]"
   ]
  },
  {
   "cell_type": "code",
   "execution_count": 5,
   "metadata": {},
   "outputs": [],
   "source": [
    "#df['Christmas'] = [1 if x==pd.to_datetime('2010-12-31') or x==pd.to_datetime('2011-12-30') or x==pd.to_datetime('2012-12-28') else 0 for x in df['Date']]"
   ]
  },
  {
   "cell_type": "markdown",
   "metadata": {},
   "source": [
    "<div style=\"background-color: lightblue; color: black; padding: 10px; font-weight: bold; font-size: 15px;\">Rolling windows: Calculating average for window of X values and shifting it Y periods.</div>"
   ]
  },
  {
   "cell_type": "code",
   "execution_count": 6,
   "metadata": {},
   "outputs": [],
   "source": [
    "df = df.sort_values(by=['Store', 'Dept', 'Date'])"
   ]
  },
  {
   "cell_type": "code",
   "execution_count": 7,
   "metadata": {},
   "outputs": [],
   "source": [
    "df['Shifted_Rolling_Avg_1'] = df['Weekly_Sales'].rolling(window=7).mean().shift(periods=2)\n",
    "df['Shifted_Rolling_Avg_2'] = df['Weekly_Sales'].rolling(window=14).mean().shift(periods=2)\n",
    "df['Shifted_Rolling_Avg_3'] = df['Weekly_Sales'].rolling(window=28).mean().shift(periods=2)\n",
    "df = df.dropna()"
   ]
  },
  {
   "cell_type": "markdown",
   "metadata": {},
   "source": [
    "<div style=\"background-color: lightblue; color: black; padding: 10px; font-weight: bold; font-size: 15px;\">Creating dummies for Holiday, Type, Store and Department column</div>"
   ]
  },
  {
   "cell_type": "code",
   "execution_count": 8,
   "metadata": {},
   "outputs": [],
   "source": [
    "df = pd.get_dummies(df, columns=['IsHoliday'], prefix='IsHoliday', drop_first=True, dtype=int)\n",
    "df = pd.get_dummies(df, columns=['Type'], prefix='Type', drop_first=True, dtype=int)\n",
    "df = pd.get_dummies(df, columns=['Store'], prefix='Store', drop_first=True, dtype=int)\n",
    "df = pd.get_dummies(df, columns=['Dept'], prefix='Store', drop_first=True, dtype=int)"
   ]
  },
  {
   "cell_type": "markdown",
   "metadata": {},
   "source": [
    "<div style=\"background-color: lightblue; color: black; padding: 10px; font-weight: bold; font-size: 15px;\">Next safing new file.</div>"
   ]
  },
  {
   "cell_type": "code",
   "execution_count": 9,
   "metadata": {},
   "outputs": [],
   "source": [
    "df.to_pickle('data/data_combined_clean_features.pkl')"
   ]
  }
 ],
 "metadata": {
  "kernelspec": {
   "display_name": ".venv",
   "language": "python",
   "name": "python3"
  },
  "language_info": {
   "codemirror_mode": {
    "name": "ipython",
    "version": 3
   },
   "file_extension": ".py",
   "mimetype": "text/x-python",
   "name": "python",
   "nbconvert_exporter": "python",
   "pygments_lexer": "ipython3",
   "version": "3.11.3"
  },
  "orig_nbformat": 4
 },
 "nbformat": 4,
 "nbformat_minor": 2
}
