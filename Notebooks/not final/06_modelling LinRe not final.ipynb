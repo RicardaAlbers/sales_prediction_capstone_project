{
 "cells": [
  {
   "cell_type": "code",
   "execution_count": 19,
   "metadata": {},
   "outputs": [],
   "source": [
    "import pandas as pd\n",
    "import numpy as np\n",
    "import matplotlib.pyplot as plt\n",
    "\n",
    "from sklearn.model_selection import train_test_split\n",
    "\n",
    "from sklearn.linear_model import LinearRegression\n",
    "from sklearn.model_selection import GridSearchCV, RandomizedSearchCV\n",
    "from sklearn.metrics import mean_squared_error\n",
    "\n",
    "from sklearn.ensemble import RandomForestRegressor"
   ]
  },
  {
   "cell_type": "markdown",
   "metadata": {},
   "source": [
    "<div style=\"background-color: lightblue; color: black; padding: 10px; font-weight: bold; font-size: 15px;\">Read data - Here: Data with 3x rolling shifted average & all dummies</div>"
   ]
  },
  {
   "cell_type": "code",
   "execution_count": 20,
   "metadata": {},
   "outputs": [],
   "source": [
    "df = pd.read_pickle('data/data_combined_clean_features.pkl')"
   ]
  },
  {
   "cell_type": "markdown",
   "metadata": {},
   "source": [
    "<div style=\"background-color: lightblue; color: black; padding: 10px; font-weight: bold; font-size: 15px;\">Train test split</div>"
   ]
  },
  {
   "cell_type": "code",
   "execution_count": 21,
   "metadata": {},
   "outputs": [],
   "source": [
    "#define train, validation and test dataset\n",
    "train = df[df['Date'] < \"2012-01-06\"].reset_index(drop=True)\n",
    "validation = df[(df['Date'] >= \"2012-01-06\") & (df['Date'] <= \"2012-06-08\")].reset_index(drop=True)\n",
    "test = df[df['Date'] > \"2012-06-08\"].reset_index(drop=True)\n",
    "\n",
    "# drop date in each of the datasets\n",
    "train = train.drop(columns='Date')\n",
    "validation = validation.drop(columns='Date')\n",
    "test = test.drop(columns='Date')\n",
    "\n",
    "#define features and target\n",
    "X_train = train.drop(columns='Weekly_Sales')\n",
    "y_train = train['Weekly_Sales']\n",
    "\n",
    "X_validation = validation.drop(columns='Weekly_Sales')\n",
    "y_validation = validation['Weekly_Sales']\n",
    "\n",
    "X_test = test.drop(columns='Weekly_Sales')\n",
    "y_test = test['Weekly_Sales'] "
   ]
  },
  {
   "cell_type": "markdown",
   "metadata": {},
   "source": [
    "<div style=\"background-color: lightblue; color: black; padding: 10px; font-weight: bold; font-size: 15px;\">Linear Regression</div>"
   ]
  },
  {
   "cell_type": "code",
   "execution_count": 22,
   "metadata": {},
   "outputs": [],
   "source": [
    "# instantiate model\n",
    "lin_reg = LinearRegression()\n",
    "\n",
    "# fit the model with train data \n",
    "lin_reg.fit(X_train, y_train)\n",
    "\n",
    "# Make predictions\n",
    "y_pred_train = lin_reg.predict(X_train)\n",
    "y_pred_validation = lin_reg.predict(X_validation)\n",
    "y_pred_test = lin_reg.predict(X_test)"
   ]
  },
  {
   "cell_type": "markdown",
   "metadata": {},
   "source": [
    "<div style=\"background-color: lightblue; color: black; padding: 10px; font-weight: bold; font-size: 15px;\">Calculating metrics for Linear Regression</div>"
   ]
  },
  {
   "cell_type": "code",
   "execution_count": 23,
   "metadata": {},
   "outputs": [
    {
     "name": "stdout",
     "output_type": "stream",
     "text": [
      "Train data:\n",
      "MSE: 81268040.933\n",
      "RMSE: 9014.879\n",
      "- - - - - - - - - - \n",
      "Validation data:\n",
      "MSE: 49340255.134\n",
      "RMSE: 7024.262\n",
      "- - - - - - - - - - \n",
      "Test data:\n",
      "MSE: 26074591.172\n",
      "RMSE: 5106.329\n"
     ]
    }
   ],
   "source": [
    "#calculate metric for train data\n",
    "mse_train = mean_squared_error(y_train, y_pred_train)\n",
    "rmse_train = np.sqrt(mse_train)\n",
    "\n",
    "#calculate metric for validation data\n",
    "mse_validation = mean_squared_error(y_validation, y_pred_validation)\n",
    "rmse_validation = np.sqrt(mse_validation)\n",
    "\n",
    "#calculate metric for test data\n",
    "mse_test = mean_squared_error(y_test, y_pred_test)\n",
    "rmse_test = np.sqrt(mse_test)\n",
    "\n",
    "print('Train data:')\n",
    "print('MSE:', mse_train.round(3))\n",
    "print('RMSE:', rmse_train.round(3))\n",
    "print(5*'- - ')\n",
    "print('Validation data:')\n",
    "print('MSE:', mse_validation.round(3))\n",
    "print('RMSE:', rmse_validation.round(3))\n",
    "print(5*'- - ')\n",
    "print('Test data:')\n",
    "print('MSE:', mse_test.round(3))\n",
    "print('RMSE:', rmse_test.round(3))"
   ]
  },
  {
   "cell_type": "markdown",
   "metadata": {},
   "source": [
    "<div style=\"background-color: lightblue; color: black; padding: 10px; font-weight: bold; font-size: 15px;\">Random Forest</div>"
   ]
  },
  {
   "cell_type": "code",
   "execution_count": 18,
   "metadata": {},
   "outputs": [],
   "source": [
    "# instantiate model\n",
    "model = RandomForestRegressor(n_estimators=100, random_state=42)\n",
    "\n",
    "# fit the model with train data \n",
    "model.fit(X_train, y_train)\n",
    "\n",
    "# Make predictions\n",
    "y_pred_train = model.predict(X_train)\n",
    "y_pred_validation = model.predict(X_validation)\n",
    "y_pred_test = model.predict(X_test)"
   ]
  },
  {
   "cell_type": "markdown",
   "metadata": {},
   "source": [
    "<div style=\"background-color: lightblue; color: black; padding: 10px; font-weight: bold; font-size: 15px;\">Calculating metrics for Random Forest</div>"
   ]
  },
  {
   "cell_type": "code",
   "execution_count": 17,
   "metadata": {},
   "outputs": [
    {
     "name": "stdout",
     "output_type": "stream",
     "text": [
      "Train data:\n",
      "MSE: 80260233.702\n",
      "RMSE: 8958.808\n",
      "- - - - - - - - - - \n",
      "Validation data:\n",
      "MSE: 48913058.919\n",
      "RMSE: 6993.787\n",
      "- - - - - - - - - - \n",
      "Test data:\n",
      "MSE: 27392750.85\n",
      "RMSE: 5233.808\n"
     ]
    }
   ],
   "source": [
    "#calculate metric for train data\n",
    "mse_train = mean_squared_error(y_train, y_pred_train)\n",
    "rmse_train = np.sqrt(mse_train)\n",
    "\n",
    "#calculate metric for validation data\n",
    "mse_validation = mean_squared_error(y_validation, y_pred_validation)\n",
    "rmse_validation = np.sqrt(mse_validation)\n",
    "\n",
    "#calculate metric for test data\n",
    "mse_test = mean_squared_error(y_test, y_pred_test)\n",
    "rmse_test = np.sqrt(mse_test)\n",
    "\n",
    "print('Train data:')\n",
    "print('MSE:', mse_train.round(3))\n",
    "print('RMSE:', rmse_train.round(3))\n",
    "print(5*'- - ')\n",
    "print('Validation data:')\n",
    "print('MSE:', mse_validation.round(3))\n",
    "print('RMSE:', rmse_validation.round(3))\n",
    "print(5*'- - ')\n",
    "print('Test data:')\n",
    "print('MSE:', mse_test.round(3))\n",
    "print('RMSE:', rmse_test.round(3))"
   ]
  }
 ],
 "metadata": {
  "kernelspec": {
   "display_name": ".venv",
   "language": "python",
   "name": "python3"
  },
  "language_info": {
   "codemirror_mode": {
    "name": "ipython",
    "version": 3
   },
   "file_extension": ".py",
   "mimetype": "text/x-python",
   "name": "python",
   "nbconvert_exporter": "python",
   "pygments_lexer": "ipython3",
   "version": "3.11.3"
  },
  "orig_nbformat": 4
 },
 "nbformat": 4,
 "nbformat_minor": 2
}
